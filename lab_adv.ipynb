{
 "cells": [
  {
   "cell_type": "markdown",
   "id": "5fecef8f",
   "metadata": {},
   "source": [
    "Варіант 12 </br>\n",
    "RWS руйнівний; змішаний; з віконним масштабуванням, h=2. </br>\n",
    "SUS руйнівний; змішаний; з віконним масштабуванням, h=2.  </br>"
   ]
  },
  {
   "cell_type": "code",
   "execution_count": 1,
   "outputs": [],
   "source": [
    "from functions import *\n",
    "from rws import RWS\n",
    "from plots import *\n",
    "from program import main"
   ],
   "metadata": {
    "collapsed": false,
    "ExecuteTime": {
     "start_time": "2023-04-06T19:34:45.877410Z",
     "end_time": "2023-04-06T19:34:47.691092Z"
    }
   }
  },
  {
   "cell_type": "code",
   "execution_count": 2,
   "outputs": [
    {
     "name": "stdout",
     "output_type": "stream",
     "text": [
      "Program FHD_10 calculation (in sec.): 9.34112286567688\n"
     ]
    }
   ],
   "source": [
    "selection_methods = [RWS]\n",
    "results = {'FHD_10': main(FHD(10), selection_methods, 'FHD_10', N, 100, 0)}"
   ],
   "metadata": {
    "collapsed": false,
    "ExecuteTime": {
     "start_time": "2023-04-06T19:34:48.962257Z",
     "end_time": "2023-04-06T19:34:58.300561Z"
    }
   }
  },
  {
   "cell_type": "markdown",
   "source": [
    "Для усіх результатів, потрібно запустити файл multi.py"
   ],
   "metadata": {
    "collapsed": false
   }
  },
  {
   "cell_type": "code",
   "execution_count": null,
   "outputs": [],
   "source": [],
   "metadata": {
    "collapsed": false
   }
  }
 ],
 "metadata": {
  "kernelspec": {
   "display_name": "Python 3 (ipykernel)",
   "language": "python",
   "name": "python3"
  },
  "language_info": {
   "codemirror_mode": {
    "name": "ipython",
    "version": 3
   },
   "file_extension": ".py",
   "mimetype": "text/x-python",
   "name": "python",
   "nbconvert_exporter": "python",
   "pygments_lexer": "ipython3",
   "version": "3.10.1"
  }
 },
 "nbformat": 4,
 "nbformat_minor": 5
}
