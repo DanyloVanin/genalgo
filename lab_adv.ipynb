{
 "cells": [
  {
   "cell_type": "markdown",
   "id": "5fecef8f",
   "metadata": {},
   "source": [
    "Варіант 12 </br>\n",
    "RWS руйнівний; змішаний; з віконним масштабуванням, h=2. </br>\n",
    "SUS руйнівний; змішаний; з віконним масштабуванням, h=2.  </br>"
   ]
  },
  {
   "cell_type": "code",
   "execution_count": 47,
   "outputs": [],
   "source": [
    "from population_factory import PopulationFactory"
   ],
   "metadata": {
    "collapsed": false,
    "ExecuteTime": {
     "start_time": "2023-04-09T21:13:26.827698Z",
     "end_time": "2023-04-09T21:13:26.830536Z"
    }
   }
  },
  {
   "cell_type": "code",
   "execution_count": 48,
   "outputs": [],
   "source": [
    "from functions import *"
   ],
   "metadata": {
    "collapsed": false,
    "ExecuteTime": {
     "start_time": "2023-04-09T21:13:26.831877Z",
     "end_time": "2023-04-09T21:13:26.835994Z"
    }
   }
  },
  {
   "cell_type": "code",
   "execution_count": 49,
   "outputs": [],
   "source": [
    "fconst = FConstALL()"
   ],
   "metadata": {
    "collapsed": false,
    "ExecuteTime": {
     "start_time": "2023-04-09T21:13:26.836731Z",
     "end_time": "2023-04-09T21:13:26.839712Z"
    }
   }
  },
  {
   "cell_type": "code",
   "execution_count": 50,
   "outputs": [],
   "source": [
    "factory = PopulationFactory(fconst)"
   ],
   "metadata": {
    "collapsed": false,
    "ExecuteTime": {
     "start_time": "2023-04-09T21:13:26.840746Z",
     "end_time": "2023-04-09T21:13:26.844173Z"
    }
   }
  },
  {
   "cell_type": "code",
   "execution_count": 51,
   "outputs": [],
   "source": [
    "population = factory.generate_binomial_chromosome_population(10, 10)"
   ],
   "metadata": {
    "collapsed": false,
    "ExecuteTime": {
     "start_time": "2023-04-09T21:13:26.845710Z",
     "end_time": "2023-04-09T21:13:26.851126Z"
    }
   }
  },
  {
   "cell_type": "code",
   "execution_count": 53,
   "outputs": [],
   "source": [
    "factory.generate_binomial_chromosome_population(100, 10)"
   ],
   "metadata": {
    "collapsed": false,
    "ExecuteTime": {
     "start_time": "2023-04-09T21:13:32.458321Z",
     "end_time": "2023-04-09T21:14:12.133752Z"
    }
   }
  },
  {
   "cell_type": "code",
   "execution_count": null,
   "outputs": [],
   "source": [],
   "metadata": {
    "collapsed": false
   }
  }
 ],
 "metadata": {
  "kernelspec": {
   "display_name": "Python 3 (ipykernel)",
   "language": "python",
   "name": "python3"
  },
  "language_info": {
   "codemirror_mode": {
    "name": "ipython",
    "version": 3
   },
   "file_extension": ".py",
   "mimetype": "text/x-python",
   "name": "python",
   "nbconvert_exporter": "python",
   "pygments_lexer": "ipython3",
   "version": "3.10.1"
  }
 },
 "nbformat": 4,
 "nbformat_minor": 5
}
