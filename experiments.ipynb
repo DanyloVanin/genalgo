{
 "cells": [
  {
   "cell_type": "code",
   "execution_count": 6,
   "id": "280ef34e",
   "metadata": {},
   "outputs": [],
   "source": [
    "from coding import *"
   ]
  },
  {
   "cell_type": "code",
   "execution_count": 9,
   "id": "f54a6e82",
   "metadata": {},
   "outputs": [
    {
     "data": {
      "text/plain": [
       "1"
      ]
     },
     "execution_count": 9,
     "metadata": {},
     "output_type": "execute_result"
    }
   ],
   "source": [
    "flip_num(1)\n",
    "flip_num(0) "
   ]
  },
  {
   "cell_type": "code",
   "execution_count": 15,
   "id": "61e9a7da",
   "metadata": {},
   "outputs": [
    {
     "data": {
      "text/plain": [
       "0.32"
      ]
     },
     "execution_count": 15,
     "metadata": {},
     "output_type": "execute_result"
    }
   ],
   "source": [
    "decimal_converter(32)"
   ]
  },
  {
   "cell_type": "code",
   "execution_count": null,
   "id": "2ad301f4",
   "metadata": {},
   "outputs": [],
   "source": []
  }
 ],
 "metadata": {
  "kernelspec": {
   "display_name": "Python 3 (ipykernel)",
   "language": "python",
   "name": "python3"
  },
  "language_info": {
   "codemirror_mode": {
    "name": "ipython",
    "version": 3
   },
   "file_extension": ".py",
   "mimetype": "text/x-python",
   "name": "python",
   "nbconvert_exporter": "python",
   "pygments_lexer": "ipython3",
   "version": "3.9.13"
  }
 },
 "nbformat": 4,
 "nbformat_minor": 5
}
